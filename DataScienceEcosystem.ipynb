{
 "cells": [
  {
   "cell_type": "markdown",
   "id": "831a78aa-6c94-4546-9bce-1a6930177358",
   "metadata": {
    "tags": []
   },
   "source": [
    "# Data Science Tools and Ecosystem"
   ]
  },
  {
   "cell_type": "markdown",
   "id": "868e00ed-1f08-4802-85ef-55479d0cc77c",
   "metadata": {},
   "source": [
    "In this notebook, Data Science Tools and Ecosystem are summarized."
   ]
  },
  {
   "cell_type": "markdown",
   "id": "b477eed3-fbe9-469b-a30d-a9234b27fc56",
   "metadata": {},
   "source": [
    "Objectives:\n",
    "## Author\n",
    "Anonymous"
   ]
  },
  {
   "cell_type": "markdown",
   "id": "f177bec8-9dfd-44f2-b727-a59aa7eac886",
   "metadata": {},
   "source": [
    "Some of the popular languages that Data Scientists use are:\n",
    "1. Python\n",
    "2. Julia\n",
    "3. R\n",
    "4. SQL\n",
    "5. Java\n"
   ]
  },
  {
   "cell_type": "markdown",
   "id": "1e1f3e1c-9962-4475-aec9-983281e45d19",
   "metadata": {},
   "source": [
    "Some of the commonly used libraries used by Data Scientists include:\n",
    "1. NumPy\n",
    "2. Pandas\n",
    "3. Matplotlib\n",
    "4. seaborn\n",
    "5. scikit-learn\n",
    "6. TensorFlow\n",
    "7. PyTorch\n",
    "8. XGBoost\n"
   ]
  },
  {
   "cell_type": "markdown",
   "id": "2d276292-9874-4cb4-9968-c46f772f015f",
   "metadata": {
    "tags": []
   },
   "source": [
    "| Data Science Tools      |\n",
    "|:-----------------------|\n",
    "| Jupyter Notebook       |\n",
    "| RStudio                |\n",
    "| Visual Studio Code     |"
   ]
  },
  {
   "cell_type": "markdown",
   "id": "266ba80f-9b44-4283-9851-0571be3dd4ae",
   "metadata": {
    "tags": []
   },
   "source": [
    "### Below are a few examples of evaluating arithmetic expressions in Python"
   ]
  },
  {
   "cell_type": "code",
   "execution_count": 6,
   "id": "d1d8e560-0da0-4aa6-baca-09fedfe65937",
   "metadata": {
    "tags": []
   },
   "outputs": [
    {
     "data": {
      "text/plain": [
       "17"
      ]
     },
     "execution_count": 6,
     "metadata": {},
     "output_type": "execute_result"
    }
   ],
   "source": [
    "#This a simple arithmetic expression to mutiply then add integers\n",
    "\n",
    "(3*4)+5"
   ]
  },
  {
   "cell_type": "code",
   "execution_count": 7,
   "id": "aea9b9e0-914c-4ecc-be68-2d8b8b61537c",
   "metadata": {
    "tags": []
   },
   "outputs": [
    {
     "data": {
      "text/plain": [
       "3.3333333333333335"
      ]
     },
     "execution_count": 7,
     "metadata": {},
     "output_type": "execute_result"
    }
   ],
   "source": [
    "#This will convert 200 minutes to hours by diving by 60\n",
    "\n",
    "200/60"
   ]
  }
 ],
 "metadata": {
  "kernelspec": {
   "display_name": "Python",
   "language": "python",
   "name": "conda-env-python-py"
  },
  "language_info": {
   "codemirror_mode": {
    "name": "ipython",
    "version": 3
   },
   "file_extension": ".py",
   "mimetype": "text/x-python",
   "name": "python",
   "nbconvert_exporter": "python",
   "pygments_lexer": "ipython3",
   "version": "3.7.12"
  }
 },
 "nbformat": 4,
 "nbformat_minor": 5
}
